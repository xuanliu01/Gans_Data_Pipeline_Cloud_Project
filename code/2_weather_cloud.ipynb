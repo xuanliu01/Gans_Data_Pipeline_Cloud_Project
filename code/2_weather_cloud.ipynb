{
 "cells": [
  {
   "cell_type": "code",
   "execution_count": null,
   "id": "a34d7c3c-03b4-4b7c-bd1a-cc8e7907860c",
   "metadata": {},
   "outputs": [],
   "source": [
    "## main.py\n",
    "import functions_framework\n",
    "import pandas as pd\n",
    "import requests\n",
    "from pytz import timezone\n",
    "from datetime import datetime\n",
    "from keys import MySQL_pass \n",
    "from keys import API_key\n",
    "import sqlalchemy\n",
    "\n",
    "@functions_framework.http\n",
    "def fetch_weather_data(request): \n",
    "    schema = \"gans_cloud\" # The name of cloud database\n",
    "    host = \"34.38.100.218\"\n",
    "    user = \"root\"\n",
    "    password = MySQL_pass \n",
    "    port = 3306\n",
    "\n",
    "    connection_string = f'mysql+pymysql://{user}:{password}@{host}:{port}/{schema}'\n",
    "    cities_df = pd.read_sql(\"cities\", con=connection_string)\n",
    "    \n",
    "    berlin_timezone = timezone('Europe/Berlin')\n",
    "    weather_items = []\n",
    "\n",
    "    for _, city in cities_df.iterrows():\n",
    "        latitude = city[\"Latitude\"]\n",
    "        longitude = city[\"Longitude\"]\n",
    "        city_id = city[\"City_id\"]\n",
    "\n",
    "        url = (f\"https://api.openweathermap.org/data/2.5/forecast?lat={latitude}&lon={longitude}&appid={API_key}&units=metric\")\n",
    "        response = requests.get(url)\n",
    "        weather_data = response.json()\n",
    "\n",
    "        retrieval_time = datetime.now(berlin_timezone).strftime(\"%Y-%m-%d %H:%M:%S\")\n",
    "\n",
    "        for item in weather_data[\"list\"]:\n",
    "            weather_item = {\n",
    "                \"city_id\": city_id,\n",
    "                \"forecast_time\": item.get(\"dt_txt\"),\n",
    "                \"temperature\": item[\"main\"].get(\"temp\"),\n",
    "                \"forecast\": item[\"weather\"][0].get(\"main\"),\n",
    "                \"rain_in_last_3h\": item.get(\"rain\", {}).get(\"3h\", 0),\n",
    "                \"wind_speed\": item[\"wind\"].get(\"speed\"),\n",
    "                \"data_retrieved_at\": retrieval_time\n",
    "            }\n",
    "            weather_items.append(weather_item)\n",
    "\n",
    "    weather_df = pd.DataFrame(weather_items)\n",
    "    weather_df[\"forecast_time\"] = pd.to_datetime(weather_df[\"forecast_time\"])\n",
    "    weather_df[\"data_retrieved_at\"] = pd.to_datetime(weather_df[\"data_retrieved_at\"])\n",
    "    # Create SQLAlchemy engine and upload DataFrame\n",
    "    engine = sqlalchemy.create_engine(connection_string)\n",
    "    weather_df.to_sql(\"weather\", con=engine, if_exists=\"append\", index=False)\n",
    "    return \"Data has been updated\"\n",
    "    "
   ]
  }
 ],
 "metadata": {
  "kernelspec": {
   "display_name": "Python [conda env:base] *",
   "language": "python",
   "name": "conda-base-py"
  },
  "language_info": {
   "codemirror_mode": {
    "name": "ipython",
    "version": 3
   },
   "file_extension": ".py",
   "mimetype": "text/x-python",
   "name": "python",
   "nbconvert_exporter": "python",
   "pygments_lexer": "ipython3",
   "version": "3.12.7"
  }
 },
 "nbformat": 4,
 "nbformat_minor": 5
}
