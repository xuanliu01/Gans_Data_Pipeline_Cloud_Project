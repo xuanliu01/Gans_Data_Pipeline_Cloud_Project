{
 "cells": [
  {
   "cell_type": "code",
   "execution_count": null,
   "id": "2da575b1-3f02-41df-80c6-b2c2b198316b",
   "metadata": {},
   "outputs": [],
   "source": [
    "schema = \"gans_cloud\" # The name of your database\n",
    "host = \"34.38.100.218\"\n",
    "user = \"root\"\n",
    "password = MySQL_pass\n",
    "port = 3306\n",
    "\n",
    "connection_string = f'mysql+pymysql://{user}:{password}@{host}:{port}/{schema}'"
   ]
  },
  {
   "cell_type": "code",
   "execution_count": null,
   "id": "6de2e7b6-5fd8-498a-aa4f-220e6b99598f",
   "metadata": {},
   "outputs": [],
   "source": [
    "import pandas as pd"
   ]
  },
  {
   "cell_type": "code",
   "execution_count": null,
   "id": "e50388bb-ede7-41a8-9dbc-71a5557d7d68",
   "metadata": {},
   "outputs": [],
   "source": [
    "##read csv \n",
    "airports_df = pd.read_csv('airports_to_db.csv')\n",
    "airports_df "
   ]
  },
  {
   "cell_type": "code",
   "execution_count": null,
   "id": "d067610f-a5e2-488b-b832-ca1ce05e1610",
   "metadata": {},
   "outputs": [],
   "source": [
    "# Push to the empty \"airports\" table in the MySQL data base\n",
    "airports_df.to_sql('airports', if_exists='append', con=connection_string, index=False)"
   ]
  }
 ],
 "metadata": {
  "kernelspec": {
   "display_name": "Python [conda env:base] *",
   "language": "python",
   "name": "conda-base-py"
  },
  "language_info": {
   "codemirror_mode": {
    "name": "ipython",
    "version": 3
   },
   "file_extension": ".py",
   "mimetype": "text/x-python",
   "name": "python",
   "nbconvert_exporter": "python",
   "pygments_lexer": "ipython3",
   "version": "3.12.7"
  }
 },
 "nbformat": 4,
 "nbformat_minor": 5
}
