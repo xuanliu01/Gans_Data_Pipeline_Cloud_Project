{
 "cells": [
  {
   "cell_type": "code",
   "execution_count": null,
   "id": "dd07babb-d3b8-4cb3-a4a6-75ae9e4d9f7e",
   "metadata": {},
   "outputs": [],
   "source": [
    "import pandas as pd\n",
    "from datetime import datetime, timedelta\n",
    "import requests\n",
    "from pytz import timezone"
   ]
  },
  {
   "cell_type": "code",
   "execution_count": null,
   "id": "92f44da2-a2aa-425b-856c-4cb35e41e2c5",
   "metadata": {},
   "outputs": [],
   "source": [
    "schema = \"gans_local\"\n",
    "host = \"localhost\"\n",
    "user = \"root\"\n",
    "password = mySQL_pass\n",
    "port = 3306\n",
    "connection_string = f'mysql+pymysql://{user}:{password}@{host}:{port}/{schema}'"
   ]
  },
  {
   "cell_type": "code",
   "execution_count": null,
   "id": "a32e1d23-9ae1-4973-aade-3486b2a9dbf5",
   "metadata": {},
   "outputs": [],
   "source": [
    "def tomorrows_flight_arrivals(icao_list):\n",
    "    #icao_list = [\"EDDB\", \"EDDH\", \"EDDM\"]\n",
    "    berlin_timezone = timezone('Europe/Berlin')\n",
    "    today = datetime.now(berlin_timezone).date()\n",
    "    tomorrow = (today + timedelta(days=1))\n",
    "\n",
    "    list_for_arrivals_df = []\n",
    "\n",
    "    for icao in icao_list:\n",
    "\n",
    "        times = [[\"00:00\",\"11:59\"],[\"12:00\",\"23:59\"]]\n",
    "\n",
    "        for time in times:\n",
    "            url = f\"https://aerodatabox.p.rapidapi.com/flights/airports/icao/{icao}/{tomorrow}T{time[0]}/{tomorrow}T{time[1]}\"\n",
    "\n",
    "            querystring = {\"direction\":\"Arrival\",\"withCancelled\":\"false\"}\n",
    "\n",
    "            headers = {\n",
    "                \"X-RapidAPI-Key\": API_key,\n",
    "                \"X-RapidAPI-Host\": \"aerodatabox.p.rapidapi.com\"\n",
    "                }\n",
    "\n",
    "            response = requests.request(\"GET\", url, headers=headers, params=querystring)\n",
    "            flights_resp = response.json()\n",
    "\n",
    "            arrivals_df = pd.json_normalize(flights_resp[\"arrivals\"])[[\"number\", \"airline.name\", \"movement.scheduledTime.local\", \"movement.terminal\", \"movement.airport.name\", \"movement.airport.icao\"]]\n",
    "            arrivals_df = arrivals_df.rename(columns={\"number\": \"flight_number\", \"airline.name\": \"airline\", \"movement.scheduledTime.local\": \"arrival_time\", \"movement.terminal\": \"arrival_terminal\", \"movement.airport.name\": \"departure_city\", \"movement.airport.icao\": \"departure_airport_icao\"})\n",
    "            arrivals_df[\"arrival_airport_icao\"] = icao\n",
    "            arrivals_df[\"data_retrieved_on\"] = datetime.now(berlin_timezone).strftime(\"%Y-%m-%d %H:%M:%S\")\n",
    "            arrivals_df = arrivals_df[[\"arrival_airport_icao\", \"flight_number\", \"airline\", \"arrival_time\", \"arrival_terminal\", \"departure_city\", \"departure_airport_icao\", \"data_retrieved_on\"]]\n",
    "\n",
    "            # fixing arrival_time\n",
    "            arrivals_df[\"arrival_time\"] = arrivals_df[\"arrival_time\"].str.split(\"+\").str[0]\n",
    "            #arrivals_df.columns = [col.capitalize() for col in arrivals_df.columns]\n",
    "            list_for_arrivals_df.append(arrivals_df)\n",
    "        \n",
    "    if list_for_arrivals_df:\n",
    "       final_df = pd.concat(list_for_arrivals_df, ignore_index=True)\n",
    "       final_df.to_sql('flight_arrival',con=connection_string,if_exists='append',index=False)\n",
    "    return final_df"
   ]
  },
  {
   "cell_type": "code",
   "execution_count": null,
   "id": "5a7f3317-a5ed-477d-b7a8-0636a1cb405f",
   "metadata": {},
   "outputs": [],
   "source": [
    "icao_list = [\"EDDB\", \"EDDH\", \"EDDM\"]\n",
    "tomorrows_flight_arrivals (icao_list)"
   ]
  }
 ],
 "metadata": {
  "kernelspec": {
   "display_name": "Python [conda env:base] *",
   "language": "python",
   "name": "conda-base-py"
  },
  "language_info": {
   "codemirror_mode": {
    "name": "ipython",
    "version": 3
   },
   "file_extension": ".py",
   "mimetype": "text/x-python",
   "name": "python",
   "nbconvert_exporter": "python",
   "pygments_lexer": "ipython3",
   "version": "3.12.7"
  }
 },
 "nbformat": 4,
 "nbformat_minor": 5
}
