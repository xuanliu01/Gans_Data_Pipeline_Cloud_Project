{
 "cells": [
  {
   "cell_type": "code",
   "execution_count": null,
   "id": "65164e36-1ea7-4146-9ae4-302d4ede0d70",
   "metadata": {},
   "outputs": [],
   "source": [
    "import pandas as pd"
   ]
  },
  {
   "cell_type": "code",
   "execution_count": null,
   "id": "0bc403c7-1f87-43a0-923f-93782caa4b63",
   "metadata": {},
   "outputs": [],
   "source": [
    "schema = \"gans_cloud\" # The name of your database\n",
    "host = \"34.38.100.218\"\n",
    "user = \"root\"\n",
    "password = MySQL_pass\n",
    "port = 3306\n",
    "\n",
    "connection_string = f'mysql+pymysql://{user}:{password}@{host}:{port}/{schema}'"
   ]
  },
  {
   "cell_type": "code",
   "execution_count": null,
   "id": "f6316f0e-3ece-4d22-800e-b49ee0ae0380",
   "metadata": {},
   "outputs": [],
   "source": [
    "##read csv \n",
    "cities_to_db = pd.read_csv('cities_to_db.csv')\n",
    "cities_to_db"
   ]
  },
  {
   "cell_type": "code",
   "execution_count": null,
   "id": "ae11c297-f732-4022-995c-faae90fbed00",
   "metadata": {},
   "outputs": [],
   "source": [
    "population_to_db = pd.read_csv('population_to_db.csv')\n",
    "population_to_db"
   ]
  },
  {
   "cell_type": "code",
   "execution_count": null,
   "id": "9293b736-94ad-4e32-833e-8ae7ff37c497",
   "metadata": {},
   "outputs": [],
   "source": [
    "# Push the \"cities_to_db\" to the empty \"cities\" table in the MySQL data base\n",
    "cities_to_db.to_sql('cities', if_exists='append', con=connection_string, index=False)"
   ]
  },
  {
   "cell_type": "code",
   "execution_count": null,
   "id": "4884fc94-e0a8-4e82-97fe-92887b7d71f9",
   "metadata": {},
   "outputs": [],
   "source": [
    "# Push the \"population_to_db\" to the empty \"population\" table in the MySQL data base\n",
    "population_to_db.to_sql('population',\n",
    "                  if_exists='append',\n",
    "                  con=connection_string,\n",
    "                  index=False)"
   ]
  }
 ],
 "metadata": {
  "kernelspec": {
   "display_name": "Python [conda env:base] *",
   "language": "python",
   "name": "conda-base-py"
  },
  "language_info": {
   "codemirror_mode": {
    "name": "ipython",
    "version": 3
   },
   "file_extension": ".py",
   "mimetype": "text/x-python",
   "name": "python",
   "nbconvert_exporter": "python",
   "pygments_lexer": "ipython3",
   "version": "3.12.7"
  }
 },
 "nbformat": 4,
 "nbformat_minor": 5
}
