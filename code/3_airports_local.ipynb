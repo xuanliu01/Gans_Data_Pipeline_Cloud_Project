{
 "cells": [
  {
   "cell_type": "code",
   "execution_count": null,
   "id": "a3b331f6-e1eb-4444-8cd2-3b98480e341b",
   "metadata": {},
   "outputs": [],
   "source": [
    "import pandas as pd\n",
    "from datetime import datetime, timedelta\n",
    "import requests\n",
    "from pytz import timezone\n",
    "\n",
    "def get_airports():\n",
    "    \n",
    "    schema = \"gans_local\"\n",
    "    host = \"localhost\"\n",
    "    user = \"root\"\n",
    "    password = mySQL_pass\n",
    "    port = 3306\n",
    "    connection_string = f'mysql+pymysql://{user}:{password}@{host}:{port}/{schema}'\n",
    "\n",
    "    cities_df = pd.read_sql(\"cities\", con=connection_string)\n",
    "    \n",
    "    list_for_df = []\n",
    "\n",
    "    for _, city in cities_df.iterrows():\n",
    "        latitude = city[\"Latitude\"]\n",
    "        longitude = city[\"Longitude\"]\n",
    "        city_id = city[\"City_id\"]\n",
    "\n",
    "        url = \"https://aerodatabox.p.rapidapi.com/airports/search/location\"\n",
    "\n",
    "        querystring = {\"lat\":latitude,\"lon\":longitude,\"radiusKm\":\"50\",\"limit\":\"5\",\"withFlightInfoOnly\":\"true\"}\n",
    "        headers = {\n",
    "          \"X-RapidAPI-Host\": \"aerodatabox.p.rapidapi.com\",\n",
    "          \"X-RapidAPI-Key\": api_key #USE THE PROVIDED KEY\n",
    "        }\n",
    "\n",
    "        response = requests.get(url, headers=headers, params=querystring)\n",
    "\n",
    "        for item in response.json()['items']:\n",
    "            airports_data = {\n",
    "            \"city_id\": city_id,\n",
    "            \"icao\": item.get(\"icao\", None),\n",
    "            \"municipality_name\": item.get(\"municipalityName\", None)\n",
    "        }\n",
    "\n",
    "\n",
    "        list_for_df.append(airports_data)\n",
    "\n",
    "    airports_df = pd.DataFrame(list_for_df)\n",
    "\n",
    "    return airports_df  "
   ]
  },
  {
   "cell_type": "code",
   "execution_count": null,
   "id": "21596b41-b49f-4ecf-a9fc-784eef1e49de",
   "metadata": {},
   "outputs": [],
   "source": [
    "airports_df = get_airports()\n",
    "airports_df"
   ]
  },
  {
   "cell_type": "code",
   "execution_count": null,
   "id": "5bc482e6-ce9d-4648-bbf0-a602539e6250",
   "metadata": {},
   "outputs": [],
   "source": [
    "airports_df.to_csv('airports_to_db.csv', index=False)"
   ]
  },
  {
   "cell_type": "code",
   "execution_count": null,
   "id": "908df6b2-bcf3-4113-a5d6-8d452302e30c",
   "metadata": {},
   "outputs": [],
   "source": [
    "airports_df.to_sql('airports',\n",
    "                  if_exists='append',\n",
    "                  con=connection_string,\n",
    "                  index=False)"
   ]
  }
 ],
 "metadata": {
  "kernelspec": {
   "display_name": "Python [conda env:base] *",
   "language": "python",
   "name": "conda-base-py"
  },
  "language_info": {
   "codemirror_mode": {
    "name": "ipython",
    "version": 3
   },
   "file_extension": ".py",
   "mimetype": "text/x-python",
   "name": "python",
   "nbconvert_exporter": "python",
   "pygments_lexer": "ipython3",
   "version": "3.12.7"
  }
 },
 "nbformat": 4,
 "nbformat_minor": 5
}
