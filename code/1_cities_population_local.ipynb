{
 "cells": [
  {
   "cell_type": "code",
   "execution_count": null,
   "id": "12b29d76-5e89-4792-ae57-5f76bf921412",
   "metadata": {},
   "outputs": [],
   "source": [
    "!pip install lat-lon-parser"
   ]
  },
  {
   "cell_type": "code",
   "execution_count": null,
   "id": "3ee33a25-4ab3-4ae0-8911-f119e8ea066d",
   "metadata": {},
   "outputs": [],
   "source": [
    "import pandas as pd\n",
    "import requests\n",
    "from bs4 import BeautifulSoup\n",
    "import sqlalchemy\n",
    "from lat_lon_parser import parse"
   ]
  },
  {
   "cell_type": "code",
   "execution_count": null,
   "id": "10da8bf1-0596-4cd6-be54-a5168f29747c",
   "metadata": {},
   "outputs": [],
   "source": [
    "## Webscrabe from Wiki information for three cities\n",
    "def cities_dataframe(cities):\n",
    "  cities_data = []\n",
    "\n",
    "  for city in cities:\n",
    "    city_data = {}\n",
    "\n",
    "    # city\n",
    "    city_data[\"City\"] = city\n",
    "\n",
    "    # create the soup\n",
    "    url = f\"https://www.wikipedia.org/wiki/{city}\"\n",
    "    response = requests.get(url)\n",
    "    city_soup = BeautifulSoup(response.content, 'html.parser')\n",
    "\n",
    "    # country\n",
    "    city_data[\"Country\"] = city_soup.find(class_=\"infobox-data\").get_text()\n",
    "\n",
    "    # population\n",
    "    city_population = city_soup.find(string=\"Population\").find_next(\"td\").get_text()\n",
    "    city_population_clean = int(city_population.replace(\",\", \"\"))\n",
    "    city_data[\"Population\"] = city_population_clean\n",
    "\n",
    "    # data retrieved\n",
    "    city_data[\"Year_Data_Retrieved\"] = city_soup.find(string=\"Population\").find_next().get_text()[2:6]\n",
    "\n",
    "    # latitude and longitude\n",
    "    city_data[\"Latitude\"] = city_soup.find(class_=\"latitude\").get_text()\n",
    "    city_data[\"Longitude\"] = city_soup.find(class_=\"longitude\").get_text()\n",
    "    city_data[\"Latitude\"] = parse(city_data[\"Latitude\"])\n",
    "    city_data[\"Longitude\"] = parse(city_data[\"Longitude\"])\n",
    "\n",
    "    # append this city's data to the cities list\n",
    "    cities_data.append(city_data)\n",
    "\n",
    "  return pd.DataFrame(cities_data)"
   ]
  },
  {
   "cell_type": "code",
   "execution_count": null,
   "id": "96acb598-d033-4f2a-a8a0-6a41195e03de",
   "metadata": {},
   "outputs": [],
   "source": [
    "cities_df = cities_dataframe([\"Berlin\", \"Hamburg\", \"Munich\"])\n",
    "cities_df"
   ]
  },
  {
   "cell_type": "code",
   "execution_count": null,
   "id": "efe2abaa-ad0b-41cc-8407-0819baa9abde",
   "metadata": {},
   "outputs": [],
   "source": [
    "# Create the \"cities df\" for the relational data base\n",
    "cities_to_db = cities_df[[\"City\", \"Country\", \"Latitude\", \"Longitude\"]].copy()"
   ]
  },
  {
   "cell_type": "code",
   "execution_count": null,
   "id": "98c487ce-cca1-4500-a4eb-19ac71844ac3",
   "metadata": {},
   "outputs": [],
   "source": [
    "cities_to_db.rename(columns={\"City\": \"City_name\"}, inplace=True)\n",
    "cities_to_db"
   ]
  },
  {
   "cell_type": "code",
   "execution_count": null,
   "id": "f7fbebce-0ad8-48d1-a611-dc46ea6c35b2",
   "metadata": {},
   "outputs": [],
   "source": [
    "cities_to_db.to_csv('cities_to_db.csv', index=False)"
   ]
  },
  {
   "cell_type": "code",
   "execution_count": null,
   "id": "733dfc44-9336-4f99-9ad8-69c663681ea0",
   "metadata": {},
   "outputs": [],
   "source": [
    "# Create the \"population df\" for the relational data base\n",
    "population_to_db = cities_df[[\"Population\", \"Year_Data_Retrieved\"]]\n",
    "population_to_db"
   ]
  },
  {
   "cell_type": "code",
   "execution_count": null,
   "id": "e39b3873-ef29-4c04-bb1e-2b24110ccaad",
   "metadata": {},
   "outputs": [],
   "source": [
    "# Establishment of connection with the SQL database\n",
    "schema = \"gans_local\" # The name of your database\n",
    "host = \"localhost\"\n",
    "user = \"root\"\n",
    "password = MySQL_pass\n",
    "port = 3306\n",
    "\n",
    "connection_string = f'mysql+pymysql://{user}:{password}@{host}:{port}/{schema}'"
   ]
  },
  {
   "cell_type": "code",
   "execution_count": null,
   "id": "97147124-1b1f-4a9e-a642-51dd6fc0fb53",
   "metadata": {},
   "outputs": [],
   "source": [
    "# Push the \"cities_to_db\" to the empty \"cities\" table in the MySQL data base\n",
    "cities_to_db.to_sql('cities', if_exists='append', con=connection_string, index=False)"
   ]
  },
  {
   "cell_type": "code",
   "execution_count": null,
   "id": "3ffd3cd2-457e-4676-930f-d3cedb2daee8",
   "metadata": {},
   "outputs": [],
   "source": [
    "cities_from_sql = pd.read_sql(\"cities\", con=connection_string)\n",
    "cities_from_sql "
   ]
  },
  {
   "cell_type": "code",
   "execution_count": null,
   "id": "5a27fa6c-644a-4751-b5b9-1c181a1aac72",
   "metadata": {},
   "outputs": [],
   "source": [
    "# Getting the \"City_id\" to the population df\n",
    "population_to_db = population_to_db.copy()\n",
    "population_to_db[\"City_id\"] = cities_from_sql[\"City_id\"]\n",
    "population_to_db"
   ]
  },
  {
   "cell_type": "code",
   "execution_count": null,
   "id": "6cb9e0ac-7ef6-4132-9c94-03351d4148db",
   "metadata": {},
   "outputs": [],
   "source": [
    "population_to_db.to_csv('population_to_db.csv', index=False)"
   ]
  },
  {
   "cell_type": "code",
   "execution_count": null,
   "id": "d68788cd-2498-4fd4-a33a-dc5464fe0a15",
   "metadata": {},
   "outputs": [],
   "source": [
    "# Push the \"population_to_db\" to the empty \"population\" table in the MySQL data base\n",
    "population_to_db.to_sql('population',\n",
    "                  if_exists='append',\n",
    "                  con=connection_string,\n",
    "                  index=False)"
   ]
  }
 ],
 "metadata": {
  "kernelspec": {
   "display_name": "Python [conda env:base] *",
   "language": "python",
   "name": "conda-base-py"
  },
  "language_info": {
   "codemirror_mode": {
    "name": "ipython",
    "version": 3
   },
   "file_extension": ".py",
   "mimetype": "text/x-python",
   "name": "python",
   "nbconvert_exporter": "python",
   "pygments_lexer": "ipython3",
   "version": "3.12.7"
  }
 },
 "nbformat": 4,
 "nbformat_minor": 5
}
